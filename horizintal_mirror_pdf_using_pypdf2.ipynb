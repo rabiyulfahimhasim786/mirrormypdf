{
  "nbformat": 4,
  "nbformat_minor": 0,
  "metadata": {
    "colab": {
      "provenance": [],
      "authorship_tag": "ABX9TyN6eGd6olB0ZBbYEoLDJi0v",
      "include_colab_link": true
    },
    "kernelspec": {
      "name": "python3",
      "display_name": "Python 3"
    },
    "language_info": {
      "name": "python"
    }
  },
  "cells": [
    {
      "cell_type": "markdown",
      "metadata": {
        "id": "view-in-github",
        "colab_type": "text"
      },
      "source": [
        "<a href=\"https://colab.research.google.com/github/rabiyulfahimhasim786/mirrormypdf/blob/development/horizintal_mirror_pdf_using_pypdf2.ipynb\" target=\"_parent\"><img src=\"https://colab.research.google.com/assets/colab-badge.svg\" alt=\"Open In Colab\"/></a>"
      ]
    },
    {
      "cell_type": "code",
      "execution_count": 20,
      "metadata": {
        "colab": {
          "base_uri": "https://localhost:8080/"
        },
        "id": "u-pRzV8NvEHu",
        "outputId": "a6c60c08-8e82-4624-f529-81ffb5af8c6c"
      },
      "outputs": [
        {
          "output_type": "stream",
          "name": "stdout",
          "text": [
            "Looking in indexes: https://pypi.org/simple, https://us-python.pkg.dev/colab-wheels/public/simple/\n",
            "Requirement already satisfied: PyPDF2 in /usr/local/lib/python3.8/dist-packages (3.0.1)\n",
            "Requirement already satisfied: typing_extensions>=3.10.0.0 in /usr/local/lib/python3.8/dist-packages (from PyPDF2) (4.5.0)\n"
          ]
        }
      ],
      "source": [
        "!pip install PyPDF2"
      ]
    },
    {
      "cell_type": "code",
      "source": [
        "import PyPDF2\n",
        "\n",
        "def pdf_horizontal_mirror(filename):\n",
        "    with open(filename, 'rb') as file:\n",
        "        # Create PDF reader object\n",
        "        #pdf = PyPDF2.PdfFileReader(file)\n",
        "        pdf = PyPDF2.PdfReader(file)\n",
        "        # Get the number of pages in the PDF file\n",
        "        pages = len(pdf.pages)\n",
        "        # Create PDF writer object\n",
        "        mirror = PyPDF2.PdfWriter()\n",
        "        # Mirror each page horizontally and add it to the mirrored object\n",
        "        for i in range(pages):\n",
        "            page = pdf.pages[i]\n",
        "            page.rotate(180)\n",
        "            page.scale(-1, 1)\n",
        "            mirror.add_page(page)\n",
        "        # Create a new file name and write the converted PDF to the new file\n",
        "        new_filename = filename[:-4] + '_horizontal_mirror.pdf'\n",
        "        with open(new_filename, 'wb') as output:\n",
        "            mirror.write(output)\n",
        "        # Return the new file name\n",
        "        return new_filename\n",
        "        \n",
        "\n",
        "pdf_filename = \"3318218_printcut.pdf\"\n",
        "\n",
        "new_filename = pdf_horizontal_mirror(pdf_filename)\n",
        "\n",
        "print('PDF file has been successfully mirrored horizontally:', new_filename)"
      ],
      "metadata": {
        "colab": {
          "base_uri": "https://localhost:8080/"
        },
        "id": "AaraeQlJvHQM",
        "outputId": "3db2200a-ea20-4ae0-abd0-3aec16e1be4c"
      },
      "execution_count": 21,
      "outputs": [
        {
          "output_type": "stream",
          "name": "stdout",
          "text": [
            "PDF file has been successfully mirrored horizontally: 3318218_printcut_horizontal_mirror.pdf\n"
          ]
        }
      ]
    },
    {
      "cell_type": "markdown",
      "source": [
        "**Solution 1**"
      ],
      "metadata": {
        "id": "KA3KqVvDTLyQ"
      }
    },
    {
      "cell_type": "code",
      "source": [
        "import PyPDF2\n",
        "\n",
        "def pdf_horizontal_mirror(filename):\n",
        "    with open(filename, 'rb') as file:\n",
        "        # Create PDF reader object\n",
        "        #pdf = PyPDF2.PdfFileReader(file)\n",
        "        pdf = PyPDF2.PdfReader(file)\n",
        "        # Get the number of pages in the PDF file\n",
        "        pages = len(pdf.pages)\n",
        "        # Create PDF writer object\n",
        "        mirror = PyPDF2.PdfWriter()\n",
        "        # Mirror each page horizontally and add it to the mirrored object\n",
        "       \n",
        "        if pages == 1:\n",
        "           for i in range(pages):\n",
        "             page = pdf.pages[i]\n",
        "             page.rotate(360)\n",
        "             page.scale(-1, 1)\n",
        "             mirror.add_page(page)\n",
        "        # Mirror each page horizontally and add it to the mirrored object\n",
        "        else:\n",
        "          for i in range(pages):\n",
        "            page = pdf.pages[i]\n",
        "            page.rotate(180)\n",
        "            page.scale(-1, 1)\n",
        "            mirror.add_page(page)\n",
        "        # Create a new file name and write the converted PDF to the new file\n",
        "        new_filename = filename[:-4] + '_horizontal_mirror.pdf'\n",
        "        with open(new_filename, 'wb') as output:\n",
        "            mirror.write(output)\n",
        "        # Return the new file name\n",
        "        return new_filename\n",
        "        \n",
        "\n",
        "pdf_filename = \"Work'3319241'.pdf\"\n",
        "\n",
        "new_filename = pdf_horizontal_mirror(pdf_filename)\n",
        "\n",
        "print('PDF file has been successfully mirrored horizontally:', new_filename)"
      ],
      "metadata": {
        "colab": {
          "base_uri": "https://localhost:8080/"
        },
        "id": "FNwUeza6Gx5H",
        "outputId": "743661b8-7bfb-4555-e0f1-c5e45c993c1a"
      },
      "execution_count": 14,
      "outputs": [
        {
          "output_type": "stream",
          "name": "stdout",
          "text": [
            "PDF file has been successfully mirrored horizontally: Work'3319241'_horizontal_mirror.pdf\n"
          ]
        }
      ]
    },
    {
      "cell_type": "markdown",
      "source": [
        "**Solution 2**"
      ],
      "metadata": {
        "id": "KV2NijA5SznR"
      }
    },
    {
      "cell_type": "code",
      "source": [
        "# if it is ingle page\n",
        "import PyPDF2\n",
        "\n",
        "def pdf_horizontal_mirror(filename):\n",
        "    with open(filename, 'rb') as file:\n",
        "        # Create PDF reader object\n",
        "        #pdf = PyPDF2.PdfFileReader(file)\n",
        "        pdf = PyPDF2.PdfReader(file)\n",
        "        # Get the number of pages in the PDF file\n",
        "        pages = len(pdf.pages)\n",
        "        # Create PDF writer object\n",
        "        mirror = PyPDF2.PdfWriter()\n",
        "        # Mirror each page horizontally and add it to the mirrored object\n",
        "        for i in range(pages):\n",
        "            page = pdf.pages[i]\n",
        "            #page.rotate(180)\n",
        "            page.scale(-1, 1)\n",
        "            mirror.add_page(page)\n",
        "        # Create a new file name and write the converted PDF to the new file\n",
        "        new_filename = filename[:-4] + '_horizontal_mirror.pdf'\n",
        "        with open(new_filename, 'wb') as output:\n",
        "            mirror.write(output)\n",
        "        # Return the new file name\n",
        "        return new_filename\n",
        "        \n",
        "\n",
        "pdf_filename = \"3318218_printcut.pdf\"\n",
        "\n",
        "new_filename = pdf_horizontal_mirror(pdf_filename)\n",
        "\n",
        "print('PDF file has been successfully mirrored horizontally:', new_filename)"
      ],
      "metadata": {
        "id": "_3cIpsXOSzci"
      },
      "execution_count": null,
      "outputs": []
    },
    {
      "cell_type": "code",
      "source": [
        "#"
      ],
      "metadata": {
        "id": "Nqjq1eY4FSg9"
      },
      "execution_count": 19,
      "outputs": []
    }
  ]
}