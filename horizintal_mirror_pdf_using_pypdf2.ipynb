{
  "nbformat": 4,
  "nbformat_minor": 0,
  "metadata": {
    "colab": {
      "provenance": [],
      "authorship_tag": "ABX9TyO8TQPh36iuPhDPvqVwW+mk",
      "include_colab_link": true
    },
    "kernelspec": {
      "name": "python3",
      "display_name": "Python 3"
    },
    "language_info": {
      "name": "python"
    }
  },
  "cells": [
    {
      "cell_type": "markdown",
      "metadata": {
        "id": "view-in-github",
        "colab_type": "text"
      },
      "source": [
        "<a href=\"https://colab.research.google.com/github/rabiyulfahimhasim786/mirrormypdf/blob/development/horizintal_mirror_pdf_using_pypdf2.ipynb\" target=\"_parent\"><img src=\"https://colab.research.google.com/assets/colab-badge.svg\" alt=\"Open In Colab\"/></a>"
      ]
    },
    {
      "cell_type": "code",
      "execution_count": null,
      "metadata": {
        "colab": {
          "base_uri": "https://localhost:8080/"
        },
        "id": "u-pRzV8NvEHu",
        "outputId": "89715602-e1ab-4c89-e65c-4cfa314870ec"
      },
      "outputs": [
        {
          "output_type": "stream",
          "name": "stdout",
          "text": [
            "Looking in indexes: https://pypi.org/simple, https://us-python.pkg.dev/colab-wheels/public/simple/\n",
            "Requirement already satisfied: PyPDF2 in /usr/local/lib/python3.8/dist-packages (3.0.1)\n",
            "Requirement already satisfied: typing_extensions>=3.10.0.0 in /usr/local/lib/python3.8/dist-packages (from PyPDF2) (4.5.0)\n"
          ]
        }
      ],
      "source": [
        "!pip install PyPDF2"
      ]
    },
    {
      "cell_type": "code",
      "source": [
        "import PyPDF2\n",
        "\n",
        "def pdf_horizontal_mirror(filename):\n",
        "    with open(filename, 'rb') as file:\n",
        "        # Create PDF reader object\n",
        "        #pdf = PyPDF2.PdfFileReader(file)\n",
        "        pdf = PyPDF2.PdfReader(file)\n",
        "        # Get the number of pages in the PDF file\n",
        "        pages = len(pdf.pages)\n",
        "        # Create PDF writer object\n",
        "        mirror = PyPDF2.PdfWriter()\n",
        "        # Mirror each page horizontally and add it to the mirrored object\n",
        "        for i in range(pages):\n",
        "            page = pdf.pages[i]\n",
        "            page.rotate(180)\n",
        "            page.scale(-1, 1)\n",
        "            mirror.add_page(page)\n",
        "        # Create a new file name and write the converted PDF to the new file\n",
        "        new_filename = filename[:-4] + '_horizontal_mirror.pdf'\n",
        "        with open(new_filename, 'wb') as output:\n",
        "            mirror.write(output)\n",
        "        # Return the new file name\n",
        "        return new_filename\n",
        "        \n",
        "\n",
        "pdf_filename = \"Work'3319285'.pdf\"\n",
        "\n",
        "new_filename = pdf_horizontal_mirror(pdf_filename)\n",
        "\n",
        "print('PDF file has been successfully mirrored horizontally:', new_filename)"
      ],
      "metadata": {
        "colab": {
          "base_uri": "https://localhost:8080/"
        },
        "id": "AaraeQlJvHQM",
        "outputId": "af1f1bff-82c7-4175-8199-1df2b220b910"
      },
      "execution_count": null,
      "outputs": [
        {
          "output_type": "stream",
          "name": "stdout",
          "text": [
            "PDF file has been successfully mirrored horizontally: Work'3319285'_horizontal_mirror.pdf\n"
          ]
        }
      ]
    },
    {
      "cell_type": "markdown",
      "source": [
        "**Solution 1**"
      ],
      "metadata": {
        "id": "KA3KqVvDTLyQ"
      }
    },
    {
      "cell_type": "code",
      "source": [
        "import PyPDF2\n",
        "\n",
        "def pdf_horizontal_mirror(filename):\n",
        "    with open(filename, 'rb') as file:\n",
        "        # Create PDF reader object\n",
        "        #pdf = PyPDF2.PdfFileReader(file)\n",
        "        pdf = PyPDF2.PdfReader(file)\n",
        "        # Get the number of pages in the PDF file\n",
        "        pages = len(pdf.pages)\n",
        "        # Create PDF writer object\n",
        "        mirror = PyPDF2.PdfWriter()\n",
        "        # Mirror each page horizontally and add it to the mirrored object\n",
        "       \n",
        "        if pages == 1:\n",
        "           for i in range(pages):\n",
        "             page = pdf.pages[i]\n",
        "             #page.rotate(360)\n",
        "             page.scale(-1, 1)\n",
        "             mirror.add_page(page)\n",
        "        # Mirror each page horizontally and add it to the mirrored object\n",
        "        else:\n",
        "          for i in range(pages):\n",
        "            page = pdf.pages[i]\n",
        "            page.rotate(180)\n",
        "            page.scale(-1, 1)\n",
        "            mirror.add_page(page)\n",
        "        # Create a new file name and write the converted PDF to the new file\n",
        "        new_filename = filename[:-4] + '_horizontal_mirror.pdf'\n",
        "        with open(new_filename, 'wb') as output:\n",
        "            mirror.write(output)\n",
        "        # Return the new file name\n",
        "        return new_filename\n",
        "        \n",
        "\n",
        "pdf_filename = \"Work'3319285'.pdf\"\n",
        "\n",
        "new_filename = pdf_horizontal_mirror(pdf_filename)\n",
        "\n",
        "print('PDF file has been successfully mirrored horizontally:', new_filename)"
      ],
      "metadata": {
        "colab": {
          "base_uri": "https://localhost:8080/"
        },
        "id": "FNwUeza6Gx5H",
        "outputId": "dbfde9c6-cd2a-490e-9ef3-54929369f937"
      },
      "execution_count": null,
      "outputs": [
        {
          "output_type": "stream",
          "name": "stdout",
          "text": [
            "PDF file has been successfully mirrored horizontally: Work'3319285'_horizontal_mirror.pdf\n"
          ]
        }
      ]
    },
    {
      "cell_type": "markdown",
      "source": [
        "**Solution 2**"
      ],
      "metadata": {
        "id": "KV2NijA5SznR"
      }
    },
    {
      "cell_type": "code",
      "source": [
        "# if it is ingle page\n",
        "import PyPDF2\n",
        "\n",
        "def pdf_horizontal_mirror(filename):\n",
        "    with open(filename, 'rb') as file:\n",
        "        # Create PDF reader object\n",
        "        #pdf = PyPDF2.PdfFileReader(file)\n",
        "        pdf = PyPDF2.PdfReader(file)\n",
        "        # Get the number of pages in the PDF file\n",
        "        pages = len(pdf.pages)\n",
        "        # Create PDF writer object\n",
        "        mirror = PyPDF2.PdfWriter()\n",
        "        # Mirror each page horizontally and add it to the mirrored object\n",
        "        for i in range(pages):\n",
        "            page = pdf.pages[i]\n",
        "            #page.rotate(180)\n",
        "            page.scale(-1, 1)\n",
        "            mirror.add_page(page)\n",
        "        # Create a new file name and write the converted PDF to the new file\n",
        "        new_filename = filename[:-4] + '_horizontal_mirror.pdf'\n",
        "        with open(new_filename, 'wb') as output:\n",
        "            mirror.write(output)\n",
        "        # Return the new file name\n",
        "        return new_filename\n",
        "        \n",
        "\n",
        "pdf_filename = \"3318218_printcut.pdf\"\n",
        "\n",
        "new_filename = pdf_horizontal_mirror(pdf_filename)\n",
        "\n",
        "print('PDF file has been successfully mirrored horizontally:', new_filename)"
      ],
      "metadata": {
        "id": "_3cIpsXOSzci"
      },
      "execution_count": null,
      "outputs": []
    },
    {
      "cell_type": "code",
      "source": [
        "#"
      ],
      "metadata": {
        "id": "Nqjq1eY4FSg9"
      },
      "execution_count": null,
      "outputs": []
    },
    {
      "cell_type": "code",
      "source": [
        "from PyPDF2  import PdfReader\n",
        "\n",
        "pdf = PdfReader((\"Work'3319285'.pdf\"))\n",
        "page = pdf.pages[0].mediabox\n",
        "print(page.width)\n",
        "print(page.height)\n",
        "if page.height > page.width:\n",
        "  print('Portrait')\n",
        "else:\n",
        "  print('Landscape')"
      ],
      "metadata": {
        "colab": {
          "base_uri": "https://localhost:8080/"
        },
        "id": "Sb_JOGgUGa2n",
        "outputId": "47a9b012-86b2-464a-a362-d3c88f337975"
      },
      "execution_count": null,
      "outputs": [
        {
          "output_type": "stream",
          "name": "stdout",
          "text": [
            "612\n",
            "792\n",
            "Portrait\n"
          ]
        }
      ]
    },
    {
      "cell_type": "code",
      "source": [
        "def pdf180(filename):\n",
        "    with open(filename, 'rb') as file:\n",
        "        # Create PDF reader object\n",
        "        #pdf = PyPDF2.PdfFileReader(file)\n",
        "        pdf = PyPDF2.PdfReader(file)\n",
        "        # Get the number of pages in the PDF file\n",
        "        pages = len(pdf.pages)\n",
        "        # Create PDF writer object\n",
        "        mirror = PyPDF2.PdfWriter()\n",
        "        # Mirror each page horizontally and add it to the mirrored object\n",
        "        for i in range(pages):\n",
        "            page = pdf.pages[i]\n",
        "            page.rotate(180)\n",
        "            page.scale(-1, 1)\n",
        "            mirror.add_page(page)\n",
        "        # Create a new file name and write the converted PDF to the new file\n",
        "        new_filename = filename[:-4] + '_horizontal_mirror.pdf'\n",
        "        with open(new_filename, 'wb') as output:\n",
        "            mirror.write(output)\n",
        "        # Return the new file name\n",
        "        return new_filename\n",
        "\n",
        "def pdf360(filename):\n",
        "    with open(filename, 'rb') as file:\n",
        "        # Create PDF reader object\n",
        "        #pdf = PyPDF2.PdfFileReader(file)\n",
        "        pdf = PyPDF2.PdfReader(file)\n",
        "        # Get the number of pages in the PDF file\n",
        "        pages = len(pdf.pages)\n",
        "        # Create PDF writer object\n",
        "        mirror = PyPDF2.PdfWriter()\n",
        "        # Mirror each page horizontally and add it to the mirrored object\n",
        "        for i in range(pages):\n",
        "            page = pdf.pages[i]\n",
        "            page.rotate(360)\n",
        "            page.scale(-1, 1)\n",
        "            mirror.add_page(page)\n",
        "        # Create a new file name and write the converted PDF to the new file\n",
        "        new_filename = filename[:-4] + '_horizontal_mirror.pdf'\n",
        "        with open(new_filename, 'wb') as output:\n",
        "            mirror.write(output)\n",
        "        # Return the new file name\n",
        "        return new_filename\n"
      ],
      "metadata": {
        "id": "t21JeKZGIRXz"
      },
      "execution_count": null,
      "outputs": []
    },
    {
      "cell_type": "code",
      "source": [
        "filename =  \"Work'3319300'.pdf\"\n",
        "pdf = PyPDF2.PdfReader((filename))\n",
        "page = pdf.pages[0].mediabox\n",
        "print(page.width)\n",
        "print(page.height)\n",
        "if page.height > page.width:\n",
        "  print('Portrait')\n",
        "  new_filename = pdf360(filename)\n",
        "else:\n",
        "  print('Landscape')\n",
        "  new_filename = pdf180(filename)"
      ],
      "metadata": {
        "colab": {
          "base_uri": "https://localhost:8080/"
        },
        "id": "CBVP-pefKHVB",
        "outputId": "9b385d93-43ea-4101-a661-e73eb0b2fc24"
      },
      "execution_count": null,
      "outputs": [
        {
          "output_type": "stream",
          "name": "stdout",
          "text": [
            "612\n",
            "792\n",
            "Portrait\n"
          ]
        }
      ]
    },
    {
      "cell_type": "code",
      "source": [
        "filename =  \"Work'3319266'.pdf\"\n",
        "pdf = PyPDF2.PdfReader((filename))\n",
        "page = pdf.pages[0].mediabox\n",
        "# print(page.width)\n",
        "# print(page.height)\n",
        "# value = 'Landscape'\n",
        "value = 'Portrait'\n",
        "if 'Portrait' == value:\n",
        "  print('Portrait')\n",
        "  new_filename = pdf360(filename)\n",
        "else:\n",
        "  print('Landscape')\n",
        "  new_filename = pdf180(filename)"
      ],
      "metadata": {
        "colab": {
          "base_uri": "https://localhost:8080/"
        },
        "id": "8S4-2h2wK6x6",
        "outputId": "b37f49f1-00f3-4f98-a18d-ca1a1fdab677"
      },
      "execution_count": null,
      "outputs": [
        {
          "output_type": "stream",
          "name": "stdout",
          "text": [
            "Portrait\n"
          ]
        }
      ]
    },
    {
      "cell_type": "code",
      "source": [
        "filename =  \"Work'3319300'.pdf\"\n",
        "pdf = PyPDF2.PdfReader((filename))\n",
        "page = pdf.pages[0].mediabox\n",
        "# print(page.width)\n",
        "# print(page.height)\n",
        "# value = 'Landscape'\n",
        "value = 'Landscape'\n",
        "if 'Portrait' == value:\n",
        "  print('Portrait')\n",
        "  new_filename = pdf360(filename)\n",
        "else:\n",
        "  print('Landscape')\n",
        "  new_filename = pdf180(filename)"
      ],
      "metadata": {
        "colab": {
          "base_uri": "https://localhost:8080/"
        },
        "id": "-SZMHnrfOULx",
        "outputId": "7a3532ea-6c2d-49aa-c266-ce8e8b3dc084"
      },
      "execution_count": null,
      "outputs": [
        {
          "output_type": "stream",
          "name": "stdout",
          "text": [
            "Landscape\n"
          ]
        }
      ]
    }
  ]
}