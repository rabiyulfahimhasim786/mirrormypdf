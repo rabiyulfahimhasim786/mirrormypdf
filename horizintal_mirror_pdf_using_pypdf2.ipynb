{
  "nbformat": 4,
  "nbformat_minor": 0,
  "metadata": {
    "colab": {
      "provenance": [],
      "authorship_tag": "ABX9TyNSxZ24q/6QRTvi9oYZYAgh",
      "include_colab_link": true
    },
    "kernelspec": {
      "name": "python3",
      "display_name": "Python 3"
    },
    "language_info": {
      "name": "python"
    }
  },
  "cells": [
    {
      "cell_type": "markdown",
      "metadata": {
        "id": "view-in-github",
        "colab_type": "text"
      },
      "source": [
        "<a href=\"https://colab.research.google.com/github/rabiyulfahimhasim786/mirrormypdf/blob/development/horizintal_mirror_pdf_using_pypdf2.ipynb\" target=\"_parent\"><img src=\"https://colab.research.google.com/assets/colab-badge.svg\" alt=\"Open In Colab\"/></a>"
      ]
    },
    {
      "cell_type": "code",
      "execution_count": 1,
      "metadata": {
        "colab": {
          "base_uri": "https://localhost:8080/"
        },
        "id": "u-pRzV8NvEHu",
        "outputId": "e0d722cc-3ae1-4d98-ea26-f762ccfe703f"
      },
      "outputs": [
        {
          "output_type": "stream",
          "name": "stdout",
          "text": [
            "Looking in indexes: https://pypi.org/simple, https://us-python.pkg.dev/colab-wheels/public/simple/\n",
            "Collecting PyPDF2\n",
            "  Downloading pypdf2-3.0.1-py3-none-any.whl (232 kB)\n",
            "\u001b[2K     \u001b[90m━━━━━━━━━━━━━━━━━━━━━━━━━━━━━━━━━━━━━━━\u001b[0m \u001b[32m232.6/232.6 KB\u001b[0m \u001b[31m4.7 MB/s\u001b[0m eta \u001b[36m0:00:00\u001b[0m\n",
            "\u001b[?25hRequirement already satisfied: typing_extensions>=3.10.0.0 in /usr/local/lib/python3.8/dist-packages (from PyPDF2) (4.4.0)\n",
            "Installing collected packages: PyPDF2\n",
            "Successfully installed PyPDF2-3.0.1\n"
          ]
        }
      ],
      "source": [
        "!pip install PyPDF2"
      ]
    },
    {
      "cell_type": "code",
      "source": [
        "import PyPDF2\n",
        "\n",
        "def pdf_horizontal_mirror(filename):\n",
        "    with open(filename, 'rb') as file:\n",
        "        # Create PDF reader object\n",
        "        #pdf = PyPDF2.PdfFileReader(file)\n",
        "        pdf = PyPDF2.PdfReader(file)\n",
        "        # Get the number of pages in the PDF file\n",
        "        pages = len(pdf.pages)\n",
        "        # Create PDF writer object\n",
        "        mirror = PyPDF2.PdfWriter()\n",
        "        # Mirror each page horizontally and add it to the mirrored object\n",
        "        for i in range(pages):\n",
        "            page = pdf.pages[i]\n",
        "            page.rotate(180)\n",
        "            page.scale(-1, 1)\n",
        "            mirror.add_page(page)\n",
        "        # Create a new file name and write the converted PDF to the new file\n",
        "        new_filename = filename[:-4] + '_horizontal_mirror.pdf'\n",
        "        with open(new_filename, 'wb') as output:\n",
        "            mirror.write(output)\n",
        "        # Return the new file name\n",
        "        return new_filename\n",
        "        \n",
        "\n",
        "pdf_filename = '3319101.pdf'\n",
        "\n",
        "new_filename = pdf_horizontal_mirror(pdf_filename)\n",
        "\n",
        "print('PDF file has been successfully mirrored horizontally:', new_filename)"
      ],
      "metadata": {
        "colab": {
          "base_uri": "https://localhost:8080/"
        },
        "id": "AaraeQlJvHQM",
        "outputId": "0db10349-967b-4d6e-9746-632f44998c9c"
      },
      "execution_count": 10,
      "outputs": [
        {
          "output_type": "stream",
          "name": "stdout",
          "text": [
            "PDF file has been successfully mirrored horizontally: 3319101_horizontal_mirror.pdf\n"
          ]
        }
      ]
    }
  ]
}